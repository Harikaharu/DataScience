{
  "nbformat": 4,
  "nbformat_minor": 0,
  "metadata": {
    "colab": {
      "provenance": [],
      "authorship_tag": "ABX9TyMcg94fyZ3WinwWl++GDUFs",
      "include_colab_link": true
    },
    "kernelspec": {
      "name": "python3",
      "display_name": "Python 3"
    },
    "language_info": {
      "name": "python"
    }
  },
  "cells": [
    {
      "cell_type": "markdown",
      "metadata": {
        "id": "view-in-github",
        "colab_type": "text"
      },
      "source": [
        "<a href=\"https://colab.research.google.com/github/Harikaharu/DataScience/blob/main/DL%20/%20RNNLSTMGRU.ipynb\" target=\"_parent\"><img src=\"https://colab.research.google.com/assets/colab-badge.svg\" alt=\"Open In Colab\"/></a>"
      ]
    },
    {
      "cell_type": "code",
      "execution_count": 1,
      "metadata": {
        "id": "WIlX3zViEnx1"
      },
      "outputs": [],
      "source": [
        "import numpy as np\n",
        "from tensorflow.keras.models import Sequential\n",
        "from tensorflow.keras.layers import SimpleRNN, Dense, Embedding\n",
        "from tensorflow.keras.preprocessing.text import Tokenizer\n",
        "from tensorflow.keras.utils import to_categorical\n",
        "from tensorflow.keras.preprocessing.sequence import pad_sequences"
      ]
    },
    {
      "cell_type": "code",
      "source": [
        "data=[\"I love coding\",\"I like reading\",\"I love sleeping\",\"I enjoy playing\"]"
      ],
      "metadata": {
        "id": "rrc3c65eE4rr"
      },
      "execution_count": 2,
      "outputs": []
    },
    {
      "cell_type": "code",
      "source": [
        "tokenizer=Tokenizer()\n",
        "tokenizer.fit_on_texts(data)\n",
        "sequences=tokenizer.texts_to_sequences(data)"
      ],
      "metadata": {
        "id": "EwyY3KMgE7Ug"
      },
      "execution_count": 3,
      "outputs": []
    },
    {
      "cell_type": "code",
      "source": [
        "sequences=pad_sequences(sequences,maxlen=3,padding=\"pre\")\n",
        "X,y=sequences[:,:-1],sequences[:,-1]"
      ],
      "metadata": {
        "id": "vM8Ww-IXE9iO"
      },
      "execution_count": 4,
      "outputs": []
    },
    {
      "cell_type": "code",
      "source": [
        "y=to_categorical(y,num_classes=len(tokenizer.word_index)+1)"
      ],
      "metadata": {
        "id": "RMvK_vm8E-23"
      },
      "execution_count": 5,
      "outputs": []
    },
    {
      "cell_type": "code",
      "source": [
        "model = Sequential()\n",
        "model.add(Embedding(input_dim=len(tokenizer.word_index)+1, output_dim=10, input_length=2))\n",
        "model.add(SimpleRNN(32))\n",
        "model.add(Dense(len(tokenizer.word_index)+1, activation='softmax'))\n",
        "\n",
        "model.compile(loss='categorical_crossentropy', optimizer='adam', metrics=['accuracy'])\n",
        "model.fit(X, y, epochs=200, verbose=0)"
      ],
      "metadata": {
        "colab": {
          "base_uri": "https://localhost:8080/"
        },
        "id": "ioDsdtVHFCwv",
        "outputId": "2061b117-4319-45b0-8234-04a5d7416b61"
      },
      "execution_count": 6,
      "outputs": [
        {
          "output_type": "stream",
          "name": "stderr",
          "text": [
            "/usr/local/lib/python3.11/dist-packages/keras/src/layers/core/embedding.py:90: UserWarning: Argument `input_length` is deprecated. Just remove it.\n",
            "  warnings.warn(\n"
          ]
        },
        {
          "output_type": "execute_result",
          "data": {
            "text/plain": [
              "<keras.src.callbacks.history.History at 0x7b9649723110>"
            ]
          },
          "metadata": {},
          "execution_count": 6
        }
      ]
    },
    {
      "cell_type": "code",
      "source": [
        "test_text = \"I love\"\n",
        "test_seq = tokenizer.texts_to_sequences([test_text])\n",
        "test_seq = pad_sequences(test_seq, maxlen=2, padding='pre')\n",
        "pred = model.predict(test_seq)\n",
        "pred_word = tokenizer.index_word[np.argmax(pred)]\n",
        "\n",
        "print(\"Next word after 'I love':\", pred_word)"
      ],
      "metadata": {
        "colab": {
          "base_uri": "https://localhost:8080/"
        },
        "id": "m3UCOZtYFGVJ",
        "outputId": "ea6967c5-357f-4f6d-ed3f-443de6fcc80a"
      },
      "execution_count": 7,
      "outputs": [
        {
          "output_type": "stream",
          "name": "stdout",
          "text": [
            "\u001b[1m1/1\u001b[0m \u001b[32m━━━━━━━━━━━━━━━━━━━━\u001b[0m\u001b[37m\u001b[0m \u001b[1m0s\u001b[0m 180ms/step\n",
            "Next word after 'I love': coding\n"
          ]
        }
      ]
    },
    {
      "cell_type": "markdown",
      "source": [
        "#LSTM\n"
      ],
      "metadata": {
        "id": "a636kmxaFIeh"
      }
    },
    {
      "cell_type": "code",
      "source": [
        "# LSTM for Sentiment Analysis\n",
        "import numpy as np\n",
        "from tensorflow.keras.models import Sequential\n",
        "from tensorflow.keras.layers import LSTM, Dense, Embedding\n",
        "from tensorflow.keras.preprocessing.text import Tokenizer\n",
        "from tensorflow.keras.preprocessing.sequence import pad_sequences\n",
        "\n",
        "# Sample data\n",
        "reviews = [\"The movie was excellent\",\n",
        "           \"The movie was boring\",\n",
        "           \"The film was interesting\",\n",
        "           \"The film was dull\"]\n",
        "labels = np.array([1, 0, 1, 0])  # 1=Positive, 0=Negative\n",
        "\n",
        "# Tokenize\n",
        "tokenizer = Tokenizer()\n",
        "tokenizer.fit_on_texts(reviews)\n",
        "sequences = tokenizer.texts_to_sequences(reviews)\n",
        "\n",
        "# Padding sequences\n",
        "X = pad_sequences(sequences, maxlen=5, padding='post')\n",
        "\n",
        "# Model\n",
        "model = Sequential()\n",
        "model.add(Embedding(input_dim=len(tokenizer.word_index)+1, output_dim=10, input_length=5))\n",
        "model.add(LSTM(16))\n",
        "model.add(Dense(1, activation='sigmoid'))\n",
        "\n",
        "model.compile(loss='binary_crossentropy', optimizer='adam', metrics=['accuracy'])\n",
        "model.fit(X, labels, epochs=200, verbose=0)\n",
        "\n",
        "# Test prediction\n",
        "test_review = \"The film was some what good and boring in middle\"\n",
        "test_seq = tokenizer.texts_to_sequences([test_review])\n",
        "test_seq = pad_sequences(test_seq, maxlen=5, padding='post')\n",
        "pred = model.predict(test_seq)\n",
        "\n",
        "print(f\"Review '{test_review}' Sentiment:\", \"Positive\" if pred > 0.5 else \"Negative\")"
      ],
      "metadata": {
        "colab": {
          "base_uri": "https://localhost:8080/"
        },
        "id": "C7EO0_KRFLws",
        "outputId": "e7621a20-3434-484b-c1a8-8f2148d3e71d"
      },
      "execution_count": 8,
      "outputs": [
        {
          "output_type": "stream",
          "name": "stderr",
          "text": [
            "/usr/local/lib/python3.11/dist-packages/keras/src/layers/core/embedding.py:90: UserWarning: Argument `input_length` is deprecated. Just remove it.\n",
            "  warnings.warn(\n"
          ]
        },
        {
          "output_type": "stream",
          "name": "stdout",
          "text": [
            "\u001b[1m1/1\u001b[0m \u001b[32m━━━━━━━━━━━━━━━━━━━━\u001b[0m\u001b[37m\u001b[0m \u001b[1m0s\u001b[0m 203ms/step\n",
            "Review 'The film was some what good and boring in middle' Sentiment: Negative\n"
          ]
        }
      ]
    },
    {
      "cell_type": "markdown",
      "source": [
        "#GRU (Gated Recurrent Unit)"
      ],
      "metadata": {
        "id": "QZFaV48zF8lj"
      }
    },
    {
      "cell_type": "code",
      "source": [
        "# GRU for Stock Price Prediction\n",
        "import numpy as np\n",
        "from tensorflow.keras.models import Sequential\n",
        "from tensorflow.keras.layers import GRU, Dense\n",
        "import matplotlib.pyplot as plt\n",
        "\n",
        "# Simulated stock prices (simple example)\n",
        "prices = np.array([120, 123, 125, 127, 130, 132, 135, 138, 140])\n",
        "\n",
        "# Prepare data (sequence of 3 days predicts the next day)\n",
        "X, y = [], []\n",
        "for i in range(len(prices)-3):\n",
        "    X.append(prices[i:i+3])\n",
        "    y.append(prices[i+3])\n",
        "\n",
        "X, y = np.array(X), np.array(y)\n",
        "\n",
        "# Reshape input to [samples, timesteps, features]\n",
        "X = X.reshape((X.shape[0], X.shape[1], 1))\n",
        "\n",
        "# Model\n",
        "model = Sequential()\n",
        "model.add(GRU(50, activation='relu', input_shape=(3,1)))\n",
        "model.add(Dense(1))\n",
        "\n",
        "model.compile(loss='mse', optimizer='adam')\n",
        "model.fit(X, y, epochs=200, verbose=0)\n",
        "\n",
        "# Predict next day price\n",
        "test_input = np.array([138, 140, 142]).reshape((1,3,1))\n",
        "predicted_price = model.predict(test_input)\n",
        "\n",
        "print(\"Predicted stock price for next day:\", predicted_price.flatten()[0])\n",
        "\n",
        "# Visualization\n",
        "plt.plot(range(len(prices)), prices, label='Actual Prices')\n",
        "plt.scatter(len(prices), predicted_price, color='red', label='Predicted Next Price')\n",
        "plt.legend()\n",
        "plt.show()\n",
        "\n",
        ""
      ],
      "metadata": {
        "colab": {
          "base_uri": "https://localhost:8080/",
          "height": 519
        },
        "id": "uY_6dYYvGAKd",
        "outputId": "562b41c5-cd4e-4531-c065-4ecec896566d"
      },
      "execution_count": 9,
      "outputs": [
        {
          "output_type": "stream",
          "name": "stderr",
          "text": [
            "/usr/local/lib/python3.11/dist-packages/keras/src/layers/rnn/rnn.py:200: UserWarning: Do not pass an `input_shape`/`input_dim` argument to a layer. When using Sequential models, prefer using an `Input(shape)` object as the first layer in the model instead.\n",
            "  super().__init__(**kwargs)\n"
          ]
        },
        {
          "output_type": "stream",
          "name": "stdout",
          "text": [
            "\u001b[1m1/1\u001b[0m \u001b[32m━━━━━━━━━━━━━━━━━━━━\u001b[0m\u001b[37m\u001b[0m \u001b[1m0s\u001b[0m 217ms/step\n",
            "Predicted stock price for next day: 145.36191\n"
          ]
        },
        {
          "output_type": "display_data",
          "data": {
            "text/plain": [
              "<Figure size 640x480 with 1 Axes>"
            ],
            "image/png": "[encoded data removed]"
          },
          "metadata": {}
        }
      ]
    }
  ]
}