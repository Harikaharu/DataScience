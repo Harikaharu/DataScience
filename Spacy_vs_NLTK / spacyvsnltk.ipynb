{
  "nbformat": 4,
  "nbformat_minor": 0,
  "metadata": {
    "colab": {
      "provenance": [],
      "authorship_tag": "ABX9TyNwR8z8+5rWxym6BhgC8XV9",
      "include_colab_link": true
    },
    "kernelspec": {
      "name": "python3",
      "display_name": "Python 3"
    },
    "language_info": {
      "name": "python"
    }
  },
  "cells": [
    {
      "cell_type": "markdown",
      "metadata": {
        "id": "view-in-github",
        "colab_type": "text"
      },
      "source": [
        "<a href=\"https://colab.research.google.com/github/Harikaharu/DataScience/blob/main/Spacy_vs_NLTK%20/%20spacyvsnltk.ipynb\" target=\"_parent\"><img src=\"https://colab.research.google.com/assets/colab-badge.svg\" alt=\"Open In Colab\"/></a>"
      ]
    },
    {
      "cell_type": "code",
      "execution_count": 17,
      "metadata": {
        "id": "lhDUNxy9Pb7x"
      },
      "outputs": [],
      "source": [
        "import spacy"
      ]
    },
    {
      "cell_type": "code",
      "source": [
        "nlp=spacy.load('en_core_web_sm')\n",
        "doc=nlp(\"Dr.Strange loves new delhi of india. hulk loves hyderabad of telangana\")"
      ],
      "metadata": {
        "id": "QN0oOZFHPtfG"
      },
      "execution_count": 18,
      "outputs": []
    },
    {
      "cell_type": "code",
      "source": [
        "for sentence in doc.sents:\n",
        "    print(sentence)"
      ],
      "metadata": {
        "colab": {
          "base_uri": "https://localhost:8080/"
        },
        "id": "IcrbEuLxQPn0",
        "outputId": "5b251718-47e8-4ed2-b1b9-1dc8113c6521"
      },
      "execution_count": 19,
      "outputs": [
        {
          "output_type": "stream",
          "name": "stdout",
          "text": [
            "Dr.Strange loves new delhi of india.\n",
            "hulk loves hyderabad of telangana\n"
          ]
        }
      ]
    },
    {
      "cell_type": "code",
      "source": [
        "for sentence in doc.sents:\n",
        "    for word in sentence:\n",
        "        print(word)"
      ],
      "metadata": {
        "colab": {
          "base_uri": "https://localhost:8080/"
        },
        "id": "LceKilYoQeW5",
        "outputId": "859055be-504a-484f-b73d-2b0142404a1d"
      },
      "execution_count": 20,
      "outputs": [
        {
          "output_type": "stream",
          "name": "stdout",
          "text": [
            "Dr.\n",
            "Strange\n",
            "loves\n",
            "new\n",
            "delhi\n",
            "of\n",
            "india\n",
            ".\n",
            "hulk\n",
            "loves\n",
            "hyderabad\n",
            "of\n",
            "telangana\n"
          ]
        }
      ]
    },
    {
      "cell_type": "code",
      "source": [
        "from nltk.tokenize import sent_tokenize\n",
        "import nltk\n",
        "nltk.download('punkt_tab')"
      ],
      "metadata": {
        "colab": {
          "base_uri": "https://localhost:8080/"
        },
        "id": "Hed2WwM0SHF_",
        "outputId": "3709d13e-e002-4840-b38a-e3311f248dbd"
      },
      "execution_count": 24,
      "outputs": [
        {
          "output_type": "stream",
          "name": "stderr",
          "text": [
            "[nltk_data] Downloading package punkt_tab to /root/nltk_data...\n",
            "[nltk_data]   Package punkt_tab is already up-to-date!\n"
          ]
        },
        {
          "output_type": "execute_result",
          "data": {
            "text/plain": [
              "True"
            ]
          },
          "metadata": {},
          "execution_count": 24
        }
      ]
    },
    {
      "cell_type": "code",
      "source": [
        "sent_tokenize(\"Dr. Strange loves new delhi of india. hulk loves hyderabad of telangana\")"
      ],
      "metadata": {
        "colab": {
          "base_uri": "https://localhost:8080/"
        },
        "id": "OoxxFY0RSIip",
        "outputId": "14692658-4351-4cd4-bc09-2cfc8b4b7199"
      },
      "execution_count": 25,
      "outputs": [
        {
          "output_type": "execute_result",
          "data": {
            "text/plain": [
              "['Dr.',\n",
              " 'Strange loves new delhi of india.',\n",
              " 'hulk loves hyderabad of telangana']"
            ]
          },
          "metadata": {},
          "execution_count": 25
        }
      ]
    },
    {
      "cell_type": "code",
      "source": [
        "from nltk.tokenize import word_tokenize\n",
        "word_tokenize(\"Dr. Strange loves new delhi of india. hulk loves hyderabad of telangana\")\n",
        ""
      ],
      "metadata": {
        "colab": {
          "base_uri": "https://localhost:8080/"
        },
        "id": "IrB9X0ARSLRo",
        "outputId": "7ba0a784-e40b-4607-9400-dd5b77546f08"
      },
      "execution_count": 26,
      "outputs": [
        {
          "output_type": "execute_result",
          "data": {
            "text/plain": [
              "['Dr',\n",
              " '.',\n",
              " 'Strange',\n",
              " 'loves',\n",
              " 'new',\n",
              " 'delhi',\n",
              " 'of',\n",
              " 'india',\n",
              " '.',\n",
              " 'hulk',\n",
              " 'loves',\n",
              " 'hyderabad',\n",
              " 'of',\n",
              " 'telangana']"
            ]
          },
          "metadata": {},
          "execution_count": 26
        }
      ]
    }
  ]
}